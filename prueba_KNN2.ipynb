{
  "cells": [
    {
      "cell_type": "markdown",
      "metadata": {
        "id": "fDGOvYByVXBc"
      },
      "source": [
        "# Importar datos desde drive"
      ]
    },
    {
      "cell_type": "code",
      "execution_count": 6,
      "metadata": {
        "colab": {
          "base_uri": "https://localhost:8080/"
        },
        "id": "Y8B6e_aHUCCv",
        "outputId": "f9bb4195-17cb-42bb-f315-076b09b6af90"
      },
      "outputs": [
        {
          "output_type": "stream",
          "name": "stdout",
          "text": [
            "Drive already mounted at /content/drive; to attempt to forcibly remount, call drive.mount(\"/content/drive\", force_remount=True).\n"
          ]
        }
      ],
      "source": [
        "from google.colab import drive\n",
        "from getpass import getpass\n",
        "import os\n",
        "\n",
        "drive.mount('/content/drive')"
      ]
    },
    {
      "cell_type": "code",
      "execution_count": 7,
      "metadata": {
        "colab": {
          "base_uri": "https://localhost:8080/"
        },
        "id": "rTlmWlqFUNID",
        "outputId": "5a726186-a5c1-4092-b404-88e0e09c3807"
      },
      "outputs": [
        {
          "name": "stdout",
          "output_type": "stream",
          "text": [
            "Introduce tu token de GitHub: ··········\n"
          ]
        },
        {
          "output_type": "execute_result",
          "data": {
            "text/plain": [
              "32768"
            ]
          },
          "metadata": {},
          "execution_count": 7
        }
      ],
      "source": [
        "os.chdir('/content/drive/My Drive/')\n",
        "token = getpass('Introduce tu token de GitHub: ')\n",
        "username = \"arantafall\"\n",
        "prj_name = \"prediccion-ataques-ciber\"\n",
        "\n",
        "# Clonar el repositorio usando el token\n",
        "os.system(f'git clone https://{token}@github.com/{username}/{prj_name}.git')"
      ]
    },
    {
      "cell_type": "code",
      "execution_count": 8,
      "metadata": {
        "id": "FVj8ehr6UWei"
      },
      "outputs": [],
      "source": [
        "os.chdir(f'/content/drive/My Drive/{prj_name}')"
      ]
    },
    {
      "cell_type": "code",
      "execution_count": 9,
      "metadata": {
        "colab": {
          "base_uri": "https://localhost:8080/"
        },
        "id": "wK600cQVUXG6",
        "outputId": "eac2ef16-1e23-4bea-da16-44df7249cb41"
      },
      "outputs": [
        {
          "output_type": "stream",
          "name": "stdout",
          "text": [
            "'Copy of Predict_AJAX.ipynb'   datos_modificados.csv   Predict_AJAX.ipynb\n",
            " \u001b[0m\u001b[01;34mdata\u001b[0m/                         \u001b[01;34m.git\u001b[0m/                   README.md\n"
          ]
        }
      ],
      "source": [
        "%ls -A"
      ]
    },
    {
      "cell_type": "code",
      "execution_count": 10,
      "metadata": {
        "id": "iJIPwFTzUZ8i"
      },
      "outputs": [],
      "source": [
        "!git config --global user.email \"Aran.Tafall.campusimpelia@gmail.com\"\n",
        "!git config --global user.name \"arantafall\""
      ]
    },
    {
      "cell_type": "markdown",
      "metadata": {
        "id": "saNjRCQMVVa8"
      },
      "source": [
        "# KNN"
      ]
    },
    {
      "cell_type": "code",
      "source": [
        "import pandas as pd\n",
        "import numpy as np\n",
        "import matplotlib.pyplot as plt\n",
        "import seaborn as sns\n",
        "\n",
        "from sklearn.model_selection import train_test_split\n",
        "from sklearn.preprocessing import StandardScaler\n",
        "from sklearn.neighbors import KNeighborsClassifier\n",
        "from sklearn.metrics import accuracy_score, classification_report, confusion_matrix"
      ],
      "metadata": {
        "id": "1m3i3ff6xdme"
      },
      "execution_count": 73,
      "outputs": []
    },
    {
      "cell_type": "code",
      "source": [
        "df = pd.read_csv(\"./datos_modificados.csv\")"
      ],
      "metadata": {
        "id": "0SjHOWNGxqKQ"
      },
      "execution_count": 75,
      "outputs": []
    },
    {
      "cell_type": "code",
      "source": [
        "df.columns = df.columns.str.strip()"
      ],
      "metadata": {
        "id": "bDUmhRxex_om"
      },
      "execution_count": 77,
      "outputs": []
    },
    {
      "cell_type": "code",
      "source": [
        "print(df.head())\n",
        "print(df.info())\n",
        "print(df.describe())"
      ],
      "metadata": {
        "colab": {
          "base_uri": "https://localhost:8080/"
        },
        "id": "m0awUEyHx1dP",
        "outputId": "7ce5b78a-bf85-40bc-8b48-f452de45ba36"
      },
      "execution_count": 78,
      "outputs": [
        {
          "output_type": "stream",
          "name": "stdout",
          "text": [
            "   Destination Port  Flow Duration  Total Fwd Packets  Total Backward Packets  \\\n",
            "0                80          38308                  1                       1   \n",
            "1               389            479                 11                       5   \n",
            "2                88           1095                 10                       6   \n",
            "3               389          15206                 17                      12   \n",
            "4                88           1092                  9                       6   \n",
            "\n",
            "   Total Length of Fwd Packets  Total Length of Bwd Packets  \\\n",
            "0                            6                            6   \n",
            "1                          172                          326   \n",
            "2                         3150                         3150   \n",
            "3                         3452                         6660   \n",
            "4                         3150                         3152   \n",
            "\n",
            "   Fwd Packet Length Max  Fwd Packet Length Min  Fwd Packet Length Mean  \\\n",
            "0                      6                      6                6.000000   \n",
            "1                     79                      0               15.636364   \n",
            "2                   1575                      0              315.000000   \n",
            "3                   1313                      0              203.058823   \n",
            "4                   1575                      0              350.000000   \n",
            "\n",
            "   Fwd Packet Length Std  ...  min_seg_size_forward  Active Mean  Active Std  \\\n",
            "0               0.000000  ...                    20          0.0         0.0   \n",
            "1              31.449238  ...                    32          0.0         0.0   \n",
            "2             632.561635  ...                    32          0.0         0.0   \n",
            "3             425.778474  ...                    32          0.0         0.0   \n",
            "4             694.509719  ...                    32          0.0         0.0   \n",
            "\n",
            "   Active Max  Active Min  Idle Mean  Idle Std  Idle Max  Idle Min   Label  \n",
            "0           0           0        0.0       0.0         0         0  BENIGN  \n",
            "1           0           0        0.0       0.0         0         0  BENIGN  \n",
            "2           0           0        0.0       0.0         0         0  BENIGN  \n",
            "3           0           0        0.0       0.0         0         0  BENIGN  \n",
            "4           0           0        0.0       0.0         0         0  BENIGN  \n",
            "\n",
            "[5 rows x 68 columns]\n",
            "<class 'pandas.core.frame.DataFrame'>\n",
            "RangeIndex: 691055 entries, 0 to 691054\n",
            "Data columns (total 68 columns):\n",
            " #   Column                       Non-Null Count   Dtype  \n",
            "---  ------                       --------------   -----  \n",
            " 0   Destination Port             691055 non-null  int64  \n",
            " 1   Flow Duration                691055 non-null  int64  \n",
            " 2   Total Fwd Packets            691055 non-null  int64  \n",
            " 3   Total Backward Packets       691055 non-null  int64  \n",
            " 4   Total Length of Fwd Packets  691055 non-null  int64  \n",
            " 5   Total Length of Bwd Packets  691055 non-null  int64  \n",
            " 6   Fwd Packet Length Max        691055 non-null  int64  \n",
            " 7   Fwd Packet Length Min        691055 non-null  int64  \n",
            " 8   Fwd Packet Length Mean       691055 non-null  float64\n",
            " 9   Fwd Packet Length Std        691055 non-null  float64\n",
            " 10  Bwd Packet Length Max        691055 non-null  int64  \n",
            " 11  Bwd Packet Length Min        691055 non-null  int64  \n",
            " 12  Bwd Packet Length Mean       691055 non-null  float64\n",
            " 13  Bwd Packet Length Std        691055 non-null  float64\n",
            " 14  Flow Bytes/s                 691055 non-null  float64\n",
            " 15  Flow Packets/s               691055 non-null  float64\n",
            " 16  Flow IAT Mean                691055 non-null  float64\n",
            " 17  Flow IAT Std                 691055 non-null  float64\n",
            " 18  Flow IAT Max                 691055 non-null  int64  \n",
            " 19  Flow IAT Min                 691055 non-null  int64  \n",
            " 20  Fwd IAT Total                691055 non-null  int64  \n",
            " 21  Fwd IAT Mean                 691055 non-null  float64\n",
            " 22  Fwd IAT Std                  691055 non-null  float64\n",
            " 23  Fwd IAT Max                  691055 non-null  int64  \n",
            " 24  Fwd IAT Min                  691055 non-null  int64  \n",
            " 25  Bwd IAT Total                691055 non-null  int64  \n",
            " 26  Bwd IAT Mean                 691055 non-null  float64\n",
            " 27  Bwd IAT Std                  691055 non-null  float64\n",
            " 28  Bwd IAT Max                  691055 non-null  int64  \n",
            " 29  Bwd IAT Min                  691055 non-null  int64  \n",
            " 30  Fwd PSH Flags                691055 non-null  int64  \n",
            " 31  Bwd PSH Flags                691055 non-null  int64  \n",
            " 32  Fwd Header Length            691055 non-null  int64  \n",
            " 33  Bwd Header Length            691055 non-null  int64  \n",
            " 34  Fwd Packets/s                691055 non-null  float64\n",
            " 35  Bwd Packets/s                691055 non-null  float64\n",
            " 36  Min Packet Length            691055 non-null  int64  \n",
            " 37  Max Packet Length            691055 non-null  int64  \n",
            " 38  Packet Length Mean           691055 non-null  float64\n",
            " 39  Packet Length Std            691055 non-null  float64\n",
            " 40  Packet Length Variance       691055 non-null  float64\n",
            " 41  FIN Flag Count               691055 non-null  int64  \n",
            " 42  SYN Flag Count               691055 non-null  int64  \n",
            " 43  RST Flag Count               691055 non-null  int64  \n",
            " 44  PSH Flag Count               691055 non-null  int64  \n",
            " 45  ACK Flag Count               691055 non-null  int64  \n",
            " 46  URG Flag Count               691055 non-null  int64  \n",
            " 47  Down/Up Ratio                691055 non-null  int64  \n",
            " 48  Average Packet Size          691055 non-null  float64\n",
            " 49  Avg Fwd Segment Size         691055 non-null  float64\n",
            " 50  Avg Bwd Segment Size         691055 non-null  float64\n",
            " 51  Fwd Header Length.1          691055 non-null  int64  \n",
            " 52  Fwd Avg Bulk Rate            691055 non-null  int64  \n",
            " 53  Bwd Avg Packets/Bulk         691055 non-null  int64  \n",
            " 54  Bwd Avg Bulk Rate            691055 non-null  int64  \n",
            " 55  Init_Win_bytes_forward       691055 non-null  int64  \n",
            " 56  Init_Win_bytes_backward      691055 non-null  int64  \n",
            " 57  act_data_pkt_fwd             691055 non-null  int64  \n",
            " 58  min_seg_size_forward         691055 non-null  int64  \n",
            " 59  Active Mean                  691055 non-null  float64\n",
            " 60  Active Std                   691055 non-null  float64\n",
            " 61  Active Max                   691055 non-null  int64  \n",
            " 62  Active Min                   691055 non-null  int64  \n",
            " 63  Idle Mean                    691055 non-null  float64\n",
            " 64  Idle Std                     691055 non-null  float64\n",
            " 65  Idle Max                     691055 non-null  int64  \n",
            " 66  Idle Min                     691055 non-null  int64  \n",
            " 67  Label                        691055 non-null  object \n",
            "dtypes: float64(24), int64(43), object(1)\n",
            "memory usage: 358.5+ MB\n",
            "None\n",
            "       Destination Port  Flow Duration  Total Fwd Packets  \\\n",
            "count     691055.000000   6.910550e+05      691055.000000   \n",
            "mean        5685.616020   2.802478e+07           9.522549   \n",
            "std        15725.295717   4.276664e+07         748.083305   \n",
            "min           21.000000   1.000000e+00           1.000000   \n",
            "25%           53.000000   2.020000e+02           2.000000   \n",
            "50%           80.000000   6.154000e+04           2.000000   \n",
            "75%          443.000000   8.305927e+07           7.000000   \n",
            "max        65487.000000   1.200000e+08      203943.000000   \n",
            "\n",
            "       Total Backward Packets  Total Length of Fwd Packets  \\\n",
            "count           691055.000000                 6.910550e+05   \n",
            "mean                10.238055                 5.564119e+02   \n",
            "std                985.377358                 6.170949e+03   \n",
            "min                  0.000000                 0.000000e+00   \n",
            "25%                  1.000000                 1.200000e+01   \n",
            "50%                  2.000000                 8.200000e+01   \n",
            "75%                  6.000000                 3.650000e+02   \n",
            "max             272353.000000                 1.224076e+06   \n",
            "\n",
            "       Total Length of Bwd Packets  Fwd Packet Length Max  \\\n",
            "count                 6.910550e+05          691055.000000   \n",
            "mean                  1.703697e+04             234.146987   \n",
            "std                   2.243846e+06             604.364926   \n",
            "min                   0.000000e+00               0.000000   \n",
            "25%                   0.000000e+00               6.000000   \n",
            "50%                   1.880000e+02              46.000000   \n",
            "75%                   1.159500e+04             341.000000   \n",
            "max                   6.270000e+08           24820.000000   \n",
            "\n",
            "       Fwd Packet Length Min  Fwd Packet Length Mean  Fwd Packet Length Std  \\\n",
            "count          691055.000000           691055.000000          691055.000000   \n",
            "mean               15.055512               60.696595              83.092475   \n",
            "std                51.124956              157.805027             226.359621   \n",
            "min                 0.000000                0.000000               0.000000   \n",
            "25%                 0.000000                6.000000               0.000000   \n",
            "50%                 0.000000               41.000000               0.000000   \n",
            "75%                33.000000               56.833333             129.114567   \n",
            "max              2065.000000             4640.757576            6429.190773   \n",
            "\n",
            "       ...  act_data_pkt_fwd  min_seg_size_forward   Active Mean  \\\n",
            "count  ...     691055.000000         691055.000000  6.910550e+05   \n",
            "mean   ...          6.135739             26.768722  9.036744e+04   \n",
            "std    ...        716.007236              6.298027  6.912155e+05   \n",
            "min    ...          0.000000             -1.000000  0.000000e+00   \n",
            "25%    ...          0.000000             20.000000  0.000000e+00   \n",
            "50%    ...          1.000000             32.000000  0.000000e+00   \n",
            "75%    ...          2.000000             32.000000  9.910000e+02   \n",
            "max    ...     197124.000000             60.000000  1.000000e+08   \n",
            "\n",
            "         Active Std    Active Max    Active Min     Idle Mean      Idle Std  \\\n",
            "count  6.910550e+05  6.910550e+05  6.910550e+05  6.910550e+05  6.910550e+05   \n",
            "mean   4.570502e+04  1.575915e+05  6.310230e+04  2.215881e+07  4.740139e+05   \n",
            "std    4.601660e+05  1.049218e+06  6.048934e+05  3.815542e+07  4.492854e+06   \n",
            "min    0.000000e+00  0.000000e+00  0.000000e+00  0.000000e+00  0.000000e+00   \n",
            "25%    0.000000e+00  0.000000e+00  0.000000e+00  0.000000e+00  0.000000e+00   \n",
            "50%    0.000000e+00  0.000000e+00  0.000000e+00  0.000000e+00  0.000000e+00   \n",
            "75%    0.000000e+00  9.910000e+02  9.890000e+02  1.600000e+07  0.000000e+00   \n",
            "max    7.420000e+07  1.050000e+08  1.000000e+08  1.200000e+08  7.690000e+07   \n",
            "\n",
            "           Idle Max      Idle Min  \n",
            "count  6.910550e+05  6.910550e+05  \n",
            "mean   2.256783e+07  2.178186e+07  \n",
            "std    3.851471e+07  3.810842e+07  \n",
            "min    0.000000e+00  0.000000e+00  \n",
            "25%    0.000000e+00  0.000000e+00  \n",
            "50%    0.000000e+00  0.000000e+00  \n",
            "75%    1.800000e+07  1.000000e+07  \n",
            "max    1.200000e+08  1.200000e+08  \n",
            "\n",
            "[8 rows x 67 columns]\n"
          ]
        }
      ]
    },
    {
      "cell_type": "code",
      "source": [
        "X = df.iloc[:, :-1]\n",
        "y = df.iloc[:, -1]"
      ],
      "metadata": {
        "id": "Dr03NW4Px755"
      },
      "execution_count": 79,
      "outputs": []
    },
    {
      "cell_type": "code",
      "source": [
        "print(y.value_counts())"
      ],
      "metadata": {
        "colab": {
          "base_uri": "https://localhost:8080/"
        },
        "id": "FY1_uk0nyQEQ",
        "outputId": "c9b023dd-a03c-472a-df92-6d6ed595e9d9"
      },
      "execution_count": 80,
      "outputs": [
        {
          "output_type": "stream",
          "name": "stdout",
          "text": [
            "Label\n",
            "BENIGN              439332\n",
            "DoS Hulk            230124\n",
            "DoS GoldenEye        10293\n",
            "DoS slowloris         5796\n",
            "DoS Slowhttptest      5499\n",
            "Heartbleed              11\n",
            "Name: count, dtype: int64\n"
          ]
        }
      ]
    },
    {
      "cell_type": "code",
      "source": [
        "from sklearn.preprocessing import LabelEncoder\n",
        "le = LabelEncoder()\n",
        "y = le.fit_transform(y)"
      ],
      "metadata": {
        "id": "eZ1JDN2LyUsx"
      },
      "execution_count": 81,
      "outputs": []
    },
    {
      "cell_type": "code",
      "source": [
        "X_train, X_test, y_train, y_test = train_test_split(X, y, test_size=0.3, random_state=42, stratify=y)"
      ],
      "metadata": {
        "id": "rcIGKjrZyYHL"
      },
      "execution_count": 82,
      "outputs": []
    },
    {
      "cell_type": "code",
      "source": [
        "scaler = StandardScaler()\n",
        "X_train = scaler.fit_transform(X_train)\n",
        "X_test = scaler.transform(X_test)"
      ],
      "metadata": {
        "id": "SskC3PKUydNh"
      },
      "execution_count": 83,
      "outputs": []
    },
    {
      "cell_type": "code",
      "source": [
        "knn = KNeighborsClassifier(n_neighbors=3)\n",
        "knn.fit(X_train, y_train)"
      ],
      "metadata": {
        "colab": {
          "base_uri": "https://localhost:8080/",
          "height": 80
        },
        "id": "UcqD2N9LyhYO",
        "outputId": "9ffa0d1e-bbc4-40ad-b2c5-a9f8ae2c3bd4"
      },
      "execution_count": 84,
      "outputs": [
        {
          "output_type": "execute_result",
          "data": {
            "text/plain": [
              "KNeighborsClassifier(n_neighbors=3)"
            ],
            "text/html": [
              "<style>#sk-container-id-3 {\n",
              "  /* Definition of color scheme common for light and dark mode */\n",
              "  --sklearn-color-text: #000;\n",
              "  --sklearn-color-text-muted: #666;\n",
              "  --sklearn-color-line: gray;\n",
              "  /* Definition of color scheme for unfitted estimators */\n",
              "  --sklearn-color-unfitted-level-0: #fff5e6;\n",
              "  --sklearn-color-unfitted-level-1: #f6e4d2;\n",
              "  --sklearn-color-unfitted-level-2: #ffe0b3;\n",
              "  --sklearn-color-unfitted-level-3: chocolate;\n",
              "  /* Definition of color scheme for fitted estimators */\n",
              "  --sklearn-color-fitted-level-0: #f0f8ff;\n",
              "  --sklearn-color-fitted-level-1: #d4ebff;\n",
              "  --sklearn-color-fitted-level-2: #b3dbfd;\n",
              "  --sklearn-color-fitted-level-3: cornflowerblue;\n",
              "\n",
              "  /* Specific color for light theme */\n",
              "  --sklearn-color-text-on-default-background: var(--sg-text-color, var(--theme-code-foreground, var(--jp-content-font-color1, black)));\n",
              "  --sklearn-color-background: var(--sg-background-color, var(--theme-background, var(--jp-layout-color0, white)));\n",
              "  --sklearn-color-border-box: var(--sg-text-color, var(--theme-code-foreground, var(--jp-content-font-color1, black)));\n",
              "  --sklearn-color-icon: #696969;\n",
              "\n",
              "  @media (prefers-color-scheme: dark) {\n",
              "    /* Redefinition of color scheme for dark theme */\n",
              "    --sklearn-color-text-on-default-background: var(--sg-text-color, var(--theme-code-foreground, var(--jp-content-font-color1, white)));\n",
              "    --sklearn-color-background: var(--sg-background-color, var(--theme-background, var(--jp-layout-color0, #111)));\n",
              "    --sklearn-color-border-box: var(--sg-text-color, var(--theme-code-foreground, var(--jp-content-font-color1, white)));\n",
              "    --sklearn-color-icon: #878787;\n",
              "  }\n",
              "}\n",
              "\n",
              "#sk-container-id-3 {\n",
              "  color: var(--sklearn-color-text);\n",
              "}\n",
              "\n",
              "#sk-container-id-3 pre {\n",
              "  padding: 0;\n",
              "}\n",
              "\n",
              "#sk-container-id-3 input.sk-hidden--visually {\n",
              "  border: 0;\n",
              "  clip: rect(1px 1px 1px 1px);\n",
              "  clip: rect(1px, 1px, 1px, 1px);\n",
              "  height: 1px;\n",
              "  margin: -1px;\n",
              "  overflow: hidden;\n",
              "  padding: 0;\n",
              "  position: absolute;\n",
              "  width: 1px;\n",
              "}\n",
              "\n",
              "#sk-container-id-3 div.sk-dashed-wrapped {\n",
              "  border: 1px dashed var(--sklearn-color-line);\n",
              "  margin: 0 0.4em 0.5em 0.4em;\n",
              "  box-sizing: border-box;\n",
              "  padding-bottom: 0.4em;\n",
              "  background-color: var(--sklearn-color-background);\n",
              "}\n",
              "\n",
              "#sk-container-id-3 div.sk-container {\n",
              "  /* jupyter's `normalize.less` sets `[hidden] { display: none; }`\n",
              "     but bootstrap.min.css set `[hidden] { display: none !important; }`\n",
              "     so we also need the `!important` here to be able to override the\n",
              "     default hidden behavior on the sphinx rendered scikit-learn.org.\n",
              "     See: https://github.com/scikit-learn/scikit-learn/issues/21755 */\n",
              "  display: inline-block !important;\n",
              "  position: relative;\n",
              "}\n",
              "\n",
              "#sk-container-id-3 div.sk-text-repr-fallback {\n",
              "  display: none;\n",
              "}\n",
              "\n",
              "div.sk-parallel-item,\n",
              "div.sk-serial,\n",
              "div.sk-item {\n",
              "  /* draw centered vertical line to link estimators */\n",
              "  background-image: linear-gradient(var(--sklearn-color-text-on-default-background), var(--sklearn-color-text-on-default-background));\n",
              "  background-size: 2px 100%;\n",
              "  background-repeat: no-repeat;\n",
              "  background-position: center center;\n",
              "}\n",
              "\n",
              "/* Parallel-specific style estimator block */\n",
              "\n",
              "#sk-container-id-3 div.sk-parallel-item::after {\n",
              "  content: \"\";\n",
              "  width: 100%;\n",
              "  border-bottom: 2px solid var(--sklearn-color-text-on-default-background);\n",
              "  flex-grow: 1;\n",
              "}\n",
              "\n",
              "#sk-container-id-3 div.sk-parallel {\n",
              "  display: flex;\n",
              "  align-items: stretch;\n",
              "  justify-content: center;\n",
              "  background-color: var(--sklearn-color-background);\n",
              "  position: relative;\n",
              "}\n",
              "\n",
              "#sk-container-id-3 div.sk-parallel-item {\n",
              "  display: flex;\n",
              "  flex-direction: column;\n",
              "}\n",
              "\n",
              "#sk-container-id-3 div.sk-parallel-item:first-child::after {\n",
              "  align-self: flex-end;\n",
              "  width: 50%;\n",
              "}\n",
              "\n",
              "#sk-container-id-3 div.sk-parallel-item:last-child::after {\n",
              "  align-self: flex-start;\n",
              "  width: 50%;\n",
              "}\n",
              "\n",
              "#sk-container-id-3 div.sk-parallel-item:only-child::after {\n",
              "  width: 0;\n",
              "}\n",
              "\n",
              "/* Serial-specific style estimator block */\n",
              "\n",
              "#sk-container-id-3 div.sk-serial {\n",
              "  display: flex;\n",
              "  flex-direction: column;\n",
              "  align-items: center;\n",
              "  background-color: var(--sklearn-color-background);\n",
              "  padding-right: 1em;\n",
              "  padding-left: 1em;\n",
              "}\n",
              "\n",
              "\n",
              "/* Toggleable style: style used for estimator/Pipeline/ColumnTransformer box that is\n",
              "clickable and can be expanded/collapsed.\n",
              "- Pipeline and ColumnTransformer use this feature and define the default style\n",
              "- Estimators will overwrite some part of the style using the `sk-estimator` class\n",
              "*/\n",
              "\n",
              "/* Pipeline and ColumnTransformer style (default) */\n",
              "\n",
              "#sk-container-id-3 div.sk-toggleable {\n",
              "  /* Default theme specific background. It is overwritten whether we have a\n",
              "  specific estimator or a Pipeline/ColumnTransformer */\n",
              "  background-color: var(--sklearn-color-background);\n",
              "}\n",
              "\n",
              "/* Toggleable label */\n",
              "#sk-container-id-3 label.sk-toggleable__label {\n",
              "  cursor: pointer;\n",
              "  display: flex;\n",
              "  width: 100%;\n",
              "  margin-bottom: 0;\n",
              "  padding: 0.5em;\n",
              "  box-sizing: border-box;\n",
              "  text-align: center;\n",
              "  align-items: start;\n",
              "  justify-content: space-between;\n",
              "  gap: 0.5em;\n",
              "}\n",
              "\n",
              "#sk-container-id-3 label.sk-toggleable__label .caption {\n",
              "  font-size: 0.6rem;\n",
              "  font-weight: lighter;\n",
              "  color: var(--sklearn-color-text-muted);\n",
              "}\n",
              "\n",
              "#sk-container-id-3 label.sk-toggleable__label-arrow:before {\n",
              "  /* Arrow on the left of the label */\n",
              "  content: \"▸\";\n",
              "  float: left;\n",
              "  margin-right: 0.25em;\n",
              "  color: var(--sklearn-color-icon);\n",
              "}\n",
              "\n",
              "#sk-container-id-3 label.sk-toggleable__label-arrow:hover:before {\n",
              "  color: var(--sklearn-color-text);\n",
              "}\n",
              "\n",
              "/* Toggleable content - dropdown */\n",
              "\n",
              "#sk-container-id-3 div.sk-toggleable__content {\n",
              "  max-height: 0;\n",
              "  max-width: 0;\n",
              "  overflow: hidden;\n",
              "  text-align: left;\n",
              "  /* unfitted */\n",
              "  background-color: var(--sklearn-color-unfitted-level-0);\n",
              "}\n",
              "\n",
              "#sk-container-id-3 div.sk-toggleable__content.fitted {\n",
              "  /* fitted */\n",
              "  background-color: var(--sklearn-color-fitted-level-0);\n",
              "}\n",
              "\n",
              "#sk-container-id-3 div.sk-toggleable__content pre {\n",
              "  margin: 0.2em;\n",
              "  border-radius: 0.25em;\n",
              "  color: var(--sklearn-color-text);\n",
              "  /* unfitted */\n",
              "  background-color: var(--sklearn-color-unfitted-level-0);\n",
              "}\n",
              "\n",
              "#sk-container-id-3 div.sk-toggleable__content.fitted pre {\n",
              "  /* unfitted */\n",
              "  background-color: var(--sklearn-color-fitted-level-0);\n",
              "}\n",
              "\n",
              "#sk-container-id-3 input.sk-toggleable__control:checked~div.sk-toggleable__content {\n",
              "  /* Expand drop-down */\n",
              "  max-height: 200px;\n",
              "  max-width: 100%;\n",
              "  overflow: auto;\n",
              "}\n",
              "\n",
              "#sk-container-id-3 input.sk-toggleable__control:checked~label.sk-toggleable__label-arrow:before {\n",
              "  content: \"▾\";\n",
              "}\n",
              "\n",
              "/* Pipeline/ColumnTransformer-specific style */\n",
              "\n",
              "#sk-container-id-3 div.sk-label input.sk-toggleable__control:checked~label.sk-toggleable__label {\n",
              "  color: var(--sklearn-color-text);\n",
              "  background-color: var(--sklearn-color-unfitted-level-2);\n",
              "}\n",
              "\n",
              "#sk-container-id-3 div.sk-label.fitted input.sk-toggleable__control:checked~label.sk-toggleable__label {\n",
              "  background-color: var(--sklearn-color-fitted-level-2);\n",
              "}\n",
              "\n",
              "/* Estimator-specific style */\n",
              "\n",
              "/* Colorize estimator box */\n",
              "#sk-container-id-3 div.sk-estimator input.sk-toggleable__control:checked~label.sk-toggleable__label {\n",
              "  /* unfitted */\n",
              "  background-color: var(--sklearn-color-unfitted-level-2);\n",
              "}\n",
              "\n",
              "#sk-container-id-3 div.sk-estimator.fitted input.sk-toggleable__control:checked~label.sk-toggleable__label {\n",
              "  /* fitted */\n",
              "  background-color: var(--sklearn-color-fitted-level-2);\n",
              "}\n",
              "\n",
              "#sk-container-id-3 div.sk-label label.sk-toggleable__label,\n",
              "#sk-container-id-3 div.sk-label label {\n",
              "  /* The background is the default theme color */\n",
              "  color: var(--sklearn-color-text-on-default-background);\n",
              "}\n",
              "\n",
              "/* On hover, darken the color of the background */\n",
              "#sk-container-id-3 div.sk-label:hover label.sk-toggleable__label {\n",
              "  color: var(--sklearn-color-text);\n",
              "  background-color: var(--sklearn-color-unfitted-level-2);\n",
              "}\n",
              "\n",
              "/* Label box, darken color on hover, fitted */\n",
              "#sk-container-id-3 div.sk-label.fitted:hover label.sk-toggleable__label.fitted {\n",
              "  color: var(--sklearn-color-text);\n",
              "  background-color: var(--sklearn-color-fitted-level-2);\n",
              "}\n",
              "\n",
              "/* Estimator label */\n",
              "\n",
              "#sk-container-id-3 div.sk-label label {\n",
              "  font-family: monospace;\n",
              "  font-weight: bold;\n",
              "  display: inline-block;\n",
              "  line-height: 1.2em;\n",
              "}\n",
              "\n",
              "#sk-container-id-3 div.sk-label-container {\n",
              "  text-align: center;\n",
              "}\n",
              "\n",
              "/* Estimator-specific */\n",
              "#sk-container-id-3 div.sk-estimator {\n",
              "  font-family: monospace;\n",
              "  border: 1px dotted var(--sklearn-color-border-box);\n",
              "  border-radius: 0.25em;\n",
              "  box-sizing: border-box;\n",
              "  margin-bottom: 0.5em;\n",
              "  /* unfitted */\n",
              "  background-color: var(--sklearn-color-unfitted-level-0);\n",
              "}\n",
              "\n",
              "#sk-container-id-3 div.sk-estimator.fitted {\n",
              "  /* fitted */\n",
              "  background-color: var(--sklearn-color-fitted-level-0);\n",
              "}\n",
              "\n",
              "/* on hover */\n",
              "#sk-container-id-3 div.sk-estimator:hover {\n",
              "  /* unfitted */\n",
              "  background-color: var(--sklearn-color-unfitted-level-2);\n",
              "}\n",
              "\n",
              "#sk-container-id-3 div.sk-estimator.fitted:hover {\n",
              "  /* fitted */\n",
              "  background-color: var(--sklearn-color-fitted-level-2);\n",
              "}\n",
              "\n",
              "/* Specification for estimator info (e.g. \"i\" and \"?\") */\n",
              "\n",
              "/* Common style for \"i\" and \"?\" */\n",
              "\n",
              ".sk-estimator-doc-link,\n",
              "a:link.sk-estimator-doc-link,\n",
              "a:visited.sk-estimator-doc-link {\n",
              "  float: right;\n",
              "  font-size: smaller;\n",
              "  line-height: 1em;\n",
              "  font-family: monospace;\n",
              "  background-color: var(--sklearn-color-background);\n",
              "  border-radius: 1em;\n",
              "  height: 1em;\n",
              "  width: 1em;\n",
              "  text-decoration: none !important;\n",
              "  margin-left: 0.5em;\n",
              "  text-align: center;\n",
              "  /* unfitted */\n",
              "  border: var(--sklearn-color-unfitted-level-1) 1pt solid;\n",
              "  color: var(--sklearn-color-unfitted-level-1);\n",
              "}\n",
              "\n",
              ".sk-estimator-doc-link.fitted,\n",
              "a:link.sk-estimator-doc-link.fitted,\n",
              "a:visited.sk-estimator-doc-link.fitted {\n",
              "  /* fitted */\n",
              "  border: var(--sklearn-color-fitted-level-1) 1pt solid;\n",
              "  color: var(--sklearn-color-fitted-level-1);\n",
              "}\n",
              "\n",
              "/* On hover */\n",
              "div.sk-estimator:hover .sk-estimator-doc-link:hover,\n",
              ".sk-estimator-doc-link:hover,\n",
              "div.sk-label-container:hover .sk-estimator-doc-link:hover,\n",
              ".sk-estimator-doc-link:hover {\n",
              "  /* unfitted */\n",
              "  background-color: var(--sklearn-color-unfitted-level-3);\n",
              "  color: var(--sklearn-color-background);\n",
              "  text-decoration: none;\n",
              "}\n",
              "\n",
              "div.sk-estimator.fitted:hover .sk-estimator-doc-link.fitted:hover,\n",
              ".sk-estimator-doc-link.fitted:hover,\n",
              "div.sk-label-container:hover .sk-estimator-doc-link.fitted:hover,\n",
              ".sk-estimator-doc-link.fitted:hover {\n",
              "  /* fitted */\n",
              "  background-color: var(--sklearn-color-fitted-level-3);\n",
              "  color: var(--sklearn-color-background);\n",
              "  text-decoration: none;\n",
              "}\n",
              "\n",
              "/* Span, style for the box shown on hovering the info icon */\n",
              ".sk-estimator-doc-link span {\n",
              "  display: none;\n",
              "  z-index: 9999;\n",
              "  position: relative;\n",
              "  font-weight: normal;\n",
              "  right: .2ex;\n",
              "  padding: .5ex;\n",
              "  margin: .5ex;\n",
              "  width: min-content;\n",
              "  min-width: 20ex;\n",
              "  max-width: 50ex;\n",
              "  color: var(--sklearn-color-text);\n",
              "  box-shadow: 2pt 2pt 4pt #999;\n",
              "  /* unfitted */\n",
              "  background: var(--sklearn-color-unfitted-level-0);\n",
              "  border: .5pt solid var(--sklearn-color-unfitted-level-3);\n",
              "}\n",
              "\n",
              ".sk-estimator-doc-link.fitted span {\n",
              "  /* fitted */\n",
              "  background: var(--sklearn-color-fitted-level-0);\n",
              "  border: var(--sklearn-color-fitted-level-3);\n",
              "}\n",
              "\n",
              ".sk-estimator-doc-link:hover span {\n",
              "  display: block;\n",
              "}\n",
              "\n",
              "/* \"?\"-specific style due to the `<a>` HTML tag */\n",
              "\n",
              "#sk-container-id-3 a.estimator_doc_link {\n",
              "  float: right;\n",
              "  font-size: 1rem;\n",
              "  line-height: 1em;\n",
              "  font-family: monospace;\n",
              "  background-color: var(--sklearn-color-background);\n",
              "  border-radius: 1rem;\n",
              "  height: 1rem;\n",
              "  width: 1rem;\n",
              "  text-decoration: none;\n",
              "  /* unfitted */\n",
              "  color: var(--sklearn-color-unfitted-level-1);\n",
              "  border: var(--sklearn-color-unfitted-level-1) 1pt solid;\n",
              "}\n",
              "\n",
              "#sk-container-id-3 a.estimator_doc_link.fitted {\n",
              "  /* fitted */\n",
              "  border: var(--sklearn-color-fitted-level-1) 1pt solid;\n",
              "  color: var(--sklearn-color-fitted-level-1);\n",
              "}\n",
              "\n",
              "/* On hover */\n",
              "#sk-container-id-3 a.estimator_doc_link:hover {\n",
              "  /* unfitted */\n",
              "  background-color: var(--sklearn-color-unfitted-level-3);\n",
              "  color: var(--sklearn-color-background);\n",
              "  text-decoration: none;\n",
              "}\n",
              "\n",
              "#sk-container-id-3 a.estimator_doc_link.fitted:hover {\n",
              "  /* fitted */\n",
              "  background-color: var(--sklearn-color-fitted-level-3);\n",
              "}\n",
              "</style><div id=\"sk-container-id-3\" class=\"sk-top-container\"><div class=\"sk-text-repr-fallback\"><pre>KNeighborsClassifier(n_neighbors=3)</pre><b>In a Jupyter environment, please rerun this cell to show the HTML representation or trust the notebook. <br />On GitHub, the HTML representation is unable to render, please try loading this page with nbviewer.org.</b></div><div class=\"sk-container\" hidden><div class=\"sk-item\"><div class=\"sk-estimator fitted sk-toggleable\"><input class=\"sk-toggleable__control sk-hidden--visually\" id=\"sk-estimator-id-3\" type=\"checkbox\" checked><label for=\"sk-estimator-id-3\" class=\"sk-toggleable__label fitted sk-toggleable__label-arrow\"><div><div>KNeighborsClassifier</div></div><div><a class=\"sk-estimator-doc-link fitted\" rel=\"noreferrer\" target=\"_blank\" href=\"https://scikit-learn.org/1.6/modules/generated/sklearn.neighbors.KNeighborsClassifier.html\">?<span>Documentation for KNeighborsClassifier</span></a><span class=\"sk-estimator-doc-link fitted\">i<span>Fitted</span></span></div></label><div class=\"sk-toggleable__content fitted\"><pre>KNeighborsClassifier(n_neighbors=3)</pre></div> </div></div></div></div>"
            ]
          },
          "metadata": {},
          "execution_count": 84
        }
      ]
    },
    {
      "cell_type": "code",
      "source": [
        "y_pred = knn.predict(X_test)"
      ],
      "metadata": {
        "id": "OpGl0fW2ymbo"
      },
      "execution_count": null,
      "outputs": []
    },
    {
      "cell_type": "code",
      "source": [
        "print(\"Accuracy:\", accuracy_score(y_test, y_pred))\n",
        "print(\"Matriz de Confusión:\\n\", confusion_matrix(y_test, y_pred))\n",
        "print(\"Reporte de Clasificación:\\n\", classification_report(y_test, target_names=le.classes_))\n"
      ],
      "metadata": {
        "id": "dsHNUpaOyo1k"
      },
      "execution_count": null,
      "outputs": []
    },
    {
      "cell_type": "code",
      "source": [
        "from sklearn.model_selection import cross_val_score\n",
        "\n",
        "error_rates = []\n",
        "k_values = range(1, 21)  # Probar valores de K de 1 a 20\n",
        "\n",
        "for k in k_values:\n",
        "    knn = KNeighborsClassifier(n_neighbors=k)\n",
        "    scores = cross_val_score(knn, X_train, y_train, cv=5)  # 5-fold cross-validation\n",
        "    error_rates.append(1 - scores.mean())\n",
        "\n",
        "# Graficar el error para diferentes valores de K\n",
        "plt.figure(figsize=(10, 5))\n",
        "plt.plot(k_values, error_rates, marker='o', linestyle='dashed', color='blue')\n",
        "plt.xlabel(\"K\")\n",
        "plt.ylabel(\"Error Rate\")\n",
        "plt.title(\"Eligiendo el mejor valor de K\")\n",
        "plt.show()"
      ],
      "metadata": {
        "id": "zAhp9KLNyu_T"
      },
      "execution_count": null,
      "outputs": []
    },
    {
      "cell_type": "code",
      "source": [
        "k_optimo = 3  # Supongamos que el mejor K fue 7 en el análisis previo\n",
        "knn_optimo = KNeighborsClassifier(n_neighbors=k_optimo)\n",
        "\n",
        "knn_optimo.fit(X_train, y_train)  # Reentrenar con los datos de entrenamiento"
      ],
      "metadata": {
        "id": "nYHYCiZLy_ag"
      },
      "execution_count": null,
      "outputs": []
    },
    {
      "cell_type": "code",
      "source": [
        "y_pred_optimo = knn_optimo.predict(X_test)"
      ],
      "metadata": {
        "id": "mopxUgJEzCmP"
      },
      "execution_count": null,
      "outputs": []
    },
    {
      "cell_type": "code",
      "source": [
        "print(\"Accuracy:\", accuracy_score(y_test, y_pred_optimo))\n",
        "print(\"Matriz de Confusión:\\n\", confusion_matrix(y_test, y_pred_optimo))\n",
        "print(\"Reporte de Clasificación:\\n\", classification_report(y_test, target_names=le.classes_))"
      ],
      "metadata": {
        "id": "W_hAeETWzDxh"
      },
      "execution_count": null,
      "outputs": []
    },
    {
      "cell_type": "code",
      "source": [
        "import joblib\n",
        "joblib.dump(knn_optimo, \"modelo_knn.pkl\")  # Guardar modelo entrenado\n",
        "joblib.dump(scaler, \"scaler.pkl\")  # Guardar el scaler usado"
      ],
      "metadata": {
        "id": "b0mg6k7hzOR9"
      },
      "execution_count": null,
      "outputs": []
    },
    {
      "cell_type": "code",
      "source": [
        "knn_cargado = joblib.load(\"modelo_knn.pkl\")\n",
        "scaler_cargado = joblib.load(\"scaler.pkl\")"
      ],
      "metadata": {
        "id": "w2Rmn_m-zQbU"
      },
      "execution_count": null,
      "outputs": []
    },
    {
      "cell_type": "code",
      "source": [
        "X_nuevo = [[valor1, valor2, ..., valor69]]  # Nuevos datos a predecir\n",
        "X_nuevo = scaler_cargado.transform(X_nuevo)  # Normalizar igual que los datos originales\n",
        "prediccion = knn_cargado.predict(X_nuevo)\n",
        "print(\"Predicción:\", le.inverse_transform(prediccion))  # Convertir de número a categoría"
      ],
      "metadata": {
        "id": "ndgiMgR5zStA"
      },
      "execution_count": null,
      "outputs": []
    },
    {
      "cell_type": "code",
      "source": [
        "from sklearn.metrics import ConfusionMatrixDisplay\n",
        "\n",
        "ConfusionMatrixDisplay.from_estimator(knn_optimo, X_test, y_test, cmap=\"Blues\")\n",
        "plt.title(\"Matriz de Confusión - KNN Óptimo\")\n",
        "plt.show()"
      ],
      "metadata": {
        "id": "CoHsGL-wzVGX"
      },
      "execution_count": null,
      "outputs": []
    }
  ],
  "metadata": {
    "colab": {
      "provenance": []
    },
    "kernelspec": {
      "display_name": "Python 3",
      "name": "python3"
    },
    "language_info": {
      "name": "python"
    }
  },
  "nbformat": 4,
  "nbformat_minor": 0
}