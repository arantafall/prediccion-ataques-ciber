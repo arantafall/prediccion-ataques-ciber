{
  "nbformat": 4,
  "nbformat_minor": 0,
  "metadata": {
    "colab": {
      "provenance": []
    },
    "kernelspec": {
      "name": "python3",
      "display_name": "Python 3"
    },
    "language_info": {
      "name": "python"
    }
  },
  "cells": [
    {
      "cell_type": "code",
      "execution_count": null,
      "metadata": {
        "id": "FeUvpfWkTSPb"
      },
      "outputs": [],
      "source": []
    },
    {
      "cell_type": "markdown",
      "metadata": {
        "id": "fDGOvYByVXBc"
      },
      "source": [
        "# Importar datos desde drive"
      ]
    },
    {
      "cell_type": "code",
      "execution_count": null,
      "metadata": {
        "colab": {
          "base_uri": "https://localhost:8080/"
        },
        "id": "Y8B6e_aHUCCv",
        "outputId": "3005f924-c171-4722-a59f-ec7fea5a7305"
      },
      "outputs": [
        {
          "output_type": "stream",
          "name": "stdout",
          "text": [
            "Mounted at /content/drive\n"
          ]
        }
      ],
      "source": [
        "from google.colab import drive\n",
        "from getpass import getpass\n",
        "import os\n",
        "\n",
        "drive.mount('/content/drive')"
      ]
    },
    {
      "cell_type": "code",
      "execution_count": null,
      "metadata": {
        "colab": {
          "base_uri": "https://localhost:8080/"
        },
        "id": "rTlmWlqFUNID",
        "outputId": "5f13da6f-6e10-496b-913a-db57413dd177"
      },
      "outputs": [
        {
          "name": "stdout",
          "output_type": "stream",
          "text": [
            "Introduce tu token de GitHub: ··········\n"
          ]
        },
        {
          "output_type": "execute_result",
          "data": {
            "text/plain": [
              "32768"
            ]
          },
          "metadata": {},
          "execution_count": 2
        }
      ],
      "source": [
        "os.chdir('/content/drive/My Drive/')\n",
        "token = getpass('Introduce tu token de GitHub: ')\n",
        "username = \"arantafall\"\n",
        "prj_name = \"prediccion-ataques-ciber\"\n",
        "\n",
        "# Clonar el repositorio usando el token\n",
        "os.system(f'git clone https://{token}@github.com/{username}/{prj_name}.git')"
      ]
    },
    {
      "cell_type": "code",
      "execution_count": null,
      "metadata": {
        "id": "FVj8ehr6UWei"
      },
      "outputs": [],
      "source": [
        "os.chdir(f'/content/drive/My Drive/{prj_name}')"
      ]
    },
    {
      "cell_type": "code",
      "execution_count": null,
      "metadata": {
        "colab": {
          "base_uri": "https://localhost:8080/"
        },
        "id": "wK600cQVUXG6",
        "outputId": "8ec28044-fbf1-4170-b332-af53ea2651df"
      },
      "outputs": [
        {
          "output_type": "stream",
          "name": "stdout",
          "text": [
            " app.py                        datos_modificados.csv       modelo_knn.pkl       scaler.pkl\n",
            "'Copy of Predict_AJAX.ipynb'   \u001b[0m\u001b[01;34m.git\u001b[0m/                       Predict_AJAX.ipynb\n",
            " \u001b[01;34mdata\u001b[0m/                         modelo_knn_comprimido.pkl   README.md\n"
          ]
        }
      ],
      "source": [
        "%ls -A"
      ]
    },
    {
      "cell_type": "code",
      "execution_count": null,
      "metadata": {
        "id": "iJIPwFTzUZ8i"
      },
      "outputs": [],
      "source": [
        "!git config --global user.email \"Aran.Tafall.campusimpelia@gmail.com\"\n",
        "!git config --global user.name \"arantafall\""
      ]
    },
    {
      "cell_type": "markdown",
      "source": [
        "importar modelo KNN"
      ],
      "metadata": {
        "id": "tuIjldM-TZKr"
      }
    },
    {
      "cell_type": "code",
      "source": [
        "knn_model_cargado = joblib.load('knn_model.pkl')\n",
        "\n",
        "nuevos_datos = pd.read_csv('nuevos_datos.csv')\n",
        "\n",
        "knn_model_cargado = joblib.load('knn_model.pkl')\n",
        "\n",
        "predicciones = knn_model_cargado.predict(nuevos_datos)\n",
        "\n",
        "nuevos_datos['Prediccion'] = predicciones\n",
        "\n",
        "nuevos_datos.to_csv('resultados_con_predicciones.csv', index=False)\n",
        "\n",
        "print(\"Predicciones guardadas en 'resultados_con_predicciones.csv'\")"
      ],
      "metadata": {
        "id": "WTB5obs2W813"
      },
      "execution_count": null,
      "outputs": []
    }
  ]
}